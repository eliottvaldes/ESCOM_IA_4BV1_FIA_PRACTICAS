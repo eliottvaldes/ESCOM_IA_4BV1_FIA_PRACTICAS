{
 "cells": [
  {
   "cell_type": "markdown",
   "metadata": {},
   "source": [
    "### ESCOM - IIA\n",
    "#### FUNDAMENTOS DE INTELIGENCIA ARTIFICIAL - PROYECTO ML\n",
    "#### Semestre 2023-2 - Grupo 4BV2\n",
    "--- \n",
    "##### Autores:\n",
    "- **Valdés Luis Eliot Fabián**"
   ]
  },
  {
   "cell_type": "code",
   "execution_count": 142,
   "metadata": {},
   "outputs": [],
   "source": [
    "# importamos la librerias necesarias\n",
    "from ucimlrepo import fetch_ucirepo  # libreria de repositorios de datasets\n",
    "import pandas as pd  # libreria para el manejo de dataframes"
   ]
  },
  {
   "cell_type": "code",
   "execution_count": 143,
   "metadata": {},
   "outputs": [],
   "source": [
    "# cargamos el dataset\n",
    "# id = 53 => el dataset de la iris flower\n",
    "datasets = [53, 728, 878, 109]  # lista de datasets seleccionados\n",
    "dataset = fetch_ucirepo(id=datasets[0])  # cargamos el dataset"
   ]
  },
  {
   "cell_type": "code",
   "execution_count": 144,
   "metadata": {},
   "outputs": [],
   "source": [
    "# obtenemos los datos\n",
    "X = dataset.data.features \n",
    "y = dataset.data.targets "
   ]
  },
  {
   "cell_type": "code",
   "execution_count": 145,
   "metadata": {},
   "outputs": [
    {
     "name": "stdout",
     "output_type": "stream",
     "text": [
      "Cantidad de registros: 150\n",
      "   sepal length  sepal width  petal length  petal width       target\n",
      "0           5.1          3.5           1.4          0.2  Iris-setosa\n",
      "1           4.9          3.0           1.4          0.2  Iris-setosa\n",
      "2           4.7          3.2           1.3          0.2  Iris-setosa\n",
      "3           4.6          3.1           1.5          0.2  Iris-setosa\n",
      "4           5.0          3.6           1.4          0.2  Iris-setosa\n"
     ]
    }
   ],
   "source": [
    "# creamos un dataframe con los datos\n",
    "df = pd.DataFrame(X, columns=dataset.data.feature_names)\n",
    "df['target'] = y\n",
    "\n",
    "# mostramos la cantidad de registros\n",
    "print(f'Cantidad de registros: {len(df)}')\n",
    "\n",
    "# imprimimos los primeros 5 registros\n",
    "print(df.head())"
   ]
  },
  {
   "cell_type": "code",
   "execution_count": 146,
   "metadata": {},
   "outputs": [
    {
     "name": "stdout",
     "output_type": "stream",
     "text": [
      "Tipos de datos (Metodo pandas):\n",
      "sepal length    float64\n",
      "sepal width     float64\n",
      "petal length    float64\n",
      "petal width     float64\n",
      "target           object\n",
      "dtype: object\n",
      "\n"
     ]
    }
   ],
   "source": [
    "# mostramos los tipos de datos de cada columna\n",
    "print(f\"Tipos de datos (Metodo pandas):\\n{df.dtypes}\\n\")"
   ]
  },
  {
   "cell_type": "code",
   "execution_count": 147,
   "metadata": {},
   "outputs": [
    {
     "name": "stdout",
     "output_type": "stream",
     "text": [
      "Tipos de datos (Metodo ucimlrepo):\n",
      "  Variable Name         Type\n",
      "0  sepal length   Continuous\n",
      "1   sepal width   Continuous\n",
      "2  petal length   Continuous\n",
      "3   petal width   Continuous\n",
      "4         class  Categorical\n",
      "\n"
     ]
    }
   ],
   "source": [
    "# mostramos los tipos de datos usando los metodos de la librearia de repositorios\n",
    "dataframe_tipos = pd.DataFrame({'Variable Name': dataset.variables['name'], 'Type': dataset.variables['type']})\n",
    "print(f\"Tipos de datos (Metodo ucimlrepo):\\n{dataframe_tipos}\\n\")"
   ]
  },
  {
   "cell_type": "code",
   "execution_count": 148,
   "metadata": {},
   "outputs": [
    {
     "name": "stdout",
     "output_type": "stream",
     "text": [
      "sepal length:\n",
      "\tMedia: 5.843333333333334\n",
      "\tMediana: 5.8\n",
      "\tDesviacion estandar: 0.828066127977863\n",
      "\tMinimo: 4.3\n",
      "\tMaximo: 7.9\n",
      "sepal width:\n",
      "\tMedia: 3.0540000000000003\n",
      "\tMediana: 3.0\n",
      "\tDesviacion estandar: 0.4335943113621737\n",
      "\tMinimo: 2.0\n",
      "\tMaximo: 4.4\n",
      "petal length:\n",
      "\tMedia: 3.758666666666666\n",
      "\tMediana: 4.35\n",
      "\tDesviacion estandar: 1.7644204199522626\n",
      "\tMinimo: 1.0\n",
      "\tMaximo: 6.9\n",
      "petal width:\n",
      "\tMedia: 1.1986666666666668\n",
      "\tMediana: 1.3\n",
      "\tDesviacion estandar: 0.7631607417008411\n",
      "\tMinimo: 0.1\n",
      "\tMaximo: 2.5\n",
      "target:\n",
      "\tValores unicos: ['Iris-setosa' 'Iris-versicolor' 'Iris-virginica']\n",
      "\tCantidad de valores unicos: 3\n"
     ]
    }
   ],
   "source": [
    "# por cada columna hacer lo siguiente \n",
    "# si el tipo de dato es numerico, mostrar la media, mediana, desviacion estandar, minimo y maximo\n",
    "# si el tipo de dato es categorico, mostrar la cantidad de valores unicos\n",
    "for col in df.columns:\n",
    "    if df[col].dtype == 'float64' or df[col].dtype == 'int64':\n",
    "        print(f\"{col}:\")\n",
    "        print(f\"\\tMedia: {df[col].mean()}\")\n",
    "        print(f\"\\tMediana: {df[col].median()}\")\n",
    "        print(f\"\\tDesviacion estandar: {df[col].std()}\")\n",
    "        print(f\"\\tMinimo: {df[col].min()}\")\n",
    "        print(f\"\\tMaximo: {df[col].max()}\")\n",
    "    else:\n",
    "        print(f\"{col}:\")\n",
    "        print(f\"\\tValores unicos: {df[col].unique()}\")\n",
    "        print(f\"\\tCantidad de valores unicos: {df[col].nunique()}\")"
   ]
  },
  {
   "cell_type": "markdown",
   "metadata": {},
   "source": [
    "PASO 2: PREPROCESAMIENTO DE DATOS\n",
    "\n",
    "Separamos el dataset en los vectores de entrada X & de salida Y(las clases que son definidas con tipo de dato categorico)\n"
   ]
  },
  {
   "cell_type": "code",
   "execution_count": 149,
   "metadata": {},
   "outputs": [
    {
     "name": "stdout",
     "output_type": "stream",
     "text": [
      "   sepal length  sepal width  petal length  petal width\n",
      "0           5.1          3.5           1.4          0.2\n",
      "1           4.9          3.0           1.4          0.2\n",
      "2           4.7          3.2           1.3          0.2\n",
      "3           4.6          3.1           1.5          0.2\n",
      "4           5.0          3.6           1.4          0.2\n"
     ]
    }
   ],
   "source": [
    "# el vector de entrada X son todas las columnas menos la columna target\n",
    "vector_x = df.drop(['target'], axis=1)\n",
    "\n",
    "# mostramos los primeros 5 registros del vector de entrada X\n",
    "print(vector_x.head())"
   ]
  },
  {
   "cell_type": "code",
   "execution_count": 150,
   "metadata": {},
   "outputs": [
    {
     "name": "stdout",
     "output_type": "stream",
     "text": [
      "0    Iris-setosa\n",
      "1    Iris-setosa\n",
      "2    Iris-setosa\n",
      "3    Iris-setosa\n",
      "4    Iris-setosa\n",
      "Name: target, dtype: object\n"
     ]
    }
   ],
   "source": [
    "# el vector de salida Y es la columna target\n",
    "vector_y = df['target']\n",
    "\n",
    "# mostramos los primeros 5 registros del vector de salida Y\n",
    "print(vector_y.head())"
   ]
  },
  {
   "cell_type": "code",
   "execution_count": 164,
   "metadata": {},
   "outputs": [
    {
     "name": "stdout",
     "output_type": "stream",
     "text": [
      "\n",
      " ==================================================\n",
      "Clase: Iris-setosa\n",
      "==================================================\n",
      "SEPAL LENGTH:\n",
      "\t-Media: 5.006\n",
      "\t-Mediana: 5.0\n",
      "\t-Desviacion estandar: 0.35248968721345136\n",
      "\t-Minimo: 4.3\n",
      "\t-Maximo: 5.8\n",
      "SEPAL WIDTH:\n",
      "\t-Media: 3.418\n",
      "\t-Mediana: 3.4\n",
      "\t-Desviacion estandar: 0.38102439795469095\n",
      "\t-Minimo: 2.3\n",
      "\t-Maximo: 4.4\n",
      "PETAL LENGTH:\n",
      "\t-Media: 1.464\n",
      "\t-Mediana: 1.5\n",
      "\t-Desviacion estandar: 0.17351115943644546\n",
      "\t-Minimo: 1.0\n",
      "\t-Maximo: 1.9\n",
      "PETAL WIDTH:\n",
      "\t-Media: 0.244\n",
      "\t-Mediana: 0.2\n",
      "\t-Desviacion estandar: 0.1072095030816784\n",
      "\t-Minimo: 0.1\n",
      "\t-Maximo: 0.6\n",
      "\n",
      " ==================================================\n",
      "Clase: Iris-versicolor\n",
      "==================================================\n",
      "SEPAL LENGTH:\n",
      "\t-Media: 5.936\n",
      "\t-Mediana: 5.9\n",
      "\t-Desviacion estandar: 0.5161711470638634\n",
      "\t-Minimo: 4.9\n",
      "\t-Maximo: 7.0\n",
      "SEPAL WIDTH:\n",
      "\t-Media: 2.7700000000000005\n",
      "\t-Mediana: 2.8\n",
      "\t-Desviacion estandar: 0.3137983233784114\n",
      "\t-Minimo: 2.0\n",
      "\t-Maximo: 3.4\n",
      "PETAL LENGTH:\n",
      "\t-Media: 4.26\n",
      "\t-Mediana: 4.35\n",
      "\t-Desviacion estandar: 0.46991097723995795\n",
      "\t-Minimo: 3.0\n",
      "\t-Maximo: 5.1\n",
      "PETAL WIDTH:\n",
      "\t-Media: 1.3259999999999998\n",
      "\t-Mediana: 1.3\n",
      "\t-Desviacion estandar: 0.19775268000454405\n",
      "\t-Minimo: 1.0\n",
      "\t-Maximo: 1.8\n",
      "\n",
      " ==================================================\n",
      "Clase: Iris-virginica\n",
      "==================================================\n",
      "SEPAL LENGTH:\n",
      "\t-Media: 6.587999999999998\n",
      "\t-Mediana: 6.5\n",
      "\t-Desviacion estandar: 0.6358795932744322\n",
      "\t-Minimo: 4.9\n",
      "\t-Maximo: 7.9\n",
      "SEPAL WIDTH:\n",
      "\t-Media: 2.974\n",
      "\t-Mediana: 3.0\n",
      "\t-Desviacion estandar: 0.32249663817263746\n",
      "\t-Minimo: 2.2\n",
      "\t-Maximo: 3.8\n",
      "PETAL LENGTH:\n",
      "\t-Media: 5.5520000000000005\n",
      "\t-Mediana: 5.55\n",
      "\t-Desviacion estandar: 0.5518946956639834\n",
      "\t-Minimo: 4.5\n",
      "\t-Maximo: 6.9\n",
      "PETAL WIDTH:\n",
      "\t-Media: 2.0260000000000002\n",
      "\t-Mediana: 2.0\n",
      "\t-Desviacion estandar: 0.2746500556366674\n",
      "\t-Minimo: 1.4\n",
      "\t-Maximo: 2.5\n"
     ]
    }
   ],
   "source": [
    "def describe_categories(vector_x, vector_y):\n",
    "    # agrupamos el vector de entrada X de acuerdo al vector de salida Y\n",
    "    grouped = vector_x.groupby(vector_y)\n",
    "    for name, group in grouped:\n",
    "        print(\"\\n\",(\"=\"*50))\n",
    "        print(f'Clase: {name}')\n",
    "        print(\"=\"*50)\n",
    "        # por cada grupo, accedemos a cada una de las columnas\n",
    "        for col in group.columns:\n",
    "            # validamos que el tipo de dato de la columna sea numerico y de ser el caso mosstramos las estadisticas\n",
    "            if group[col].dtype == 'float64' or group[col].dtype == 'int64':\n",
    "                print(f\"{col.upper()}:\")\n",
    "                print(f\"\\t-Media: {group[col].mean()}\")\n",
    "                print(f\"\\t-Mediana: {group[col].median()}\")\n",
    "                print(f\"\\t-Desviacion estandar: {group[col].std()}\")\n",
    "                print(f\"\\t-Minimo: {group[col].min()}\")\n",
    "                print(f\"\\t-Maximo: {group[col].max()}\")\n",
    "            else:\n",
    "                print(f\"{col.upper()}:\")\n",
    "                print(f\"\\tValores unicos: {group[col].unique()}\")\n",
    "                print(f\"\\tCantidad de valores unicos: {group[col].nunique()}\")\n",
    "            \n",
    "        \n",
    "\n",
    "describe_categories(vector_x, vector_y)"
   ]
  },
  {
   "cell_type": "code",
   "execution_count": null,
   "metadata": {},
   "outputs": [],
   "source": []
  }
 ],
 "metadata": {
  "kernelspec": {
   "display_name": "Python 3",
   "language": "python",
   "name": "python3"
  },
  "language_info": {
   "codemirror_mode": {
    "name": "ipython",
    "version": 3
   },
   "file_extension": ".py",
   "mimetype": "text/x-python",
   "name": "python",
   "nbconvert_exporter": "python",
   "pygments_lexer": "ipython3",
   "version": "3.10.12"
  }
 },
 "nbformat": 4,
 "nbformat_minor": 2
}
