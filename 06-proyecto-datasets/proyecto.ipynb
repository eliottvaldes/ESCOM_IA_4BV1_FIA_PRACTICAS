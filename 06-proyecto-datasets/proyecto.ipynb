{
 "cells": [
  {
   "cell_type": "markdown",
   "metadata": {},
   "source": [
    "### ESCOM - IIA\n",
    "#### FUNDAMENTOS DE INTELIGENCIA ARTIFICIAL - PROYECTO ML\n",
    "#### Semestre 2023-2 - Grupo 4BV2\n",
    "--- \n",
    "##### Autores:\n",
    "- **Valdés Luis Eliot Fabián**"
   ]
  },
  {
   "cell_type": "code",
   "execution_count": 132,
   "metadata": {},
   "outputs": [],
   "source": [
    "# importamos la librerias necesarias\n",
    "from ucimlrepo import fetch_ucirepo  # libreria de repositorios de datasets\n",
    "import pandas as pd  # libreria para el manejo de dataframes"
   ]
  },
  {
   "cell_type": "code",
   "execution_count": 133,
   "metadata": {},
   "outputs": [],
   "source": [
    "# cargamos el dataset\n",
    "# id = 53 => el dataset de la iris flower\n",
    "datasets = [53, 728, 878, 109]  # lista de datasets seleccionados\n",
    "dataset = fetch_ucirepo(id=datasets[0])  # cargamos el dataset"
   ]
  },
  {
   "cell_type": "code",
   "execution_count": 134,
   "metadata": {},
   "outputs": [],
   "source": [
    "# obtenemos los datos\n",
    "X = dataset.data.features \n",
    "y = dataset.data.targets "
   ]
  },
  {
   "cell_type": "code",
   "execution_count": 135,
   "metadata": {},
   "outputs": [
    {
     "name": "stdout",
     "output_type": "stream",
     "text": [
      "Cantidad de registros: 150\n",
      "   sepal length  sepal width  petal length  petal width       target\n",
      "0           5.1          3.5           1.4          0.2  Iris-setosa\n",
      "1           4.9          3.0           1.4          0.2  Iris-setosa\n",
      "2           4.7          3.2           1.3          0.2  Iris-setosa\n",
      "3           4.6          3.1           1.5          0.2  Iris-setosa\n",
      "4           5.0          3.6           1.4          0.2  Iris-setosa\n"
     ]
    }
   ],
   "source": [
    "# creamos un dataframe con los datos\n",
    "df = pd.DataFrame(X, columns=dataset.data.feature_names)\n",
    "df['target'] = y\n",
    "\n",
    "# mostramos la cantidad de registros\n",
    "print(f'Cantidad de registros: {len(df)}')\n",
    "\n",
    "# imprimimos los primeros 5 registros\n",
    "print(df.head())"
   ]
  },
  {
   "cell_type": "code",
   "execution_count": 136,
   "metadata": {},
   "outputs": [
    {
     "name": "stdout",
     "output_type": "stream",
     "text": [
      "Tipos de datos (Metodo pandas):\n",
      "sepal length    float64\n",
      "sepal width     float64\n",
      "petal length    float64\n",
      "petal width     float64\n",
      "target           object\n",
      "dtype: object\n",
      "\n"
     ]
    }
   ],
   "source": [
    "# mostramos los tipos de datos de cada columna\n",
    "print(f\"Tipos de datos (Metodo pandas):\\n{df.dtypes}\\n\")"
   ]
  },
  {
   "cell_type": "code",
   "execution_count": 137,
   "metadata": {},
   "outputs": [
    {
     "name": "stdout",
     "output_type": "stream",
     "text": [
      "Tipos de datos (Metodo ucimlrepo):\n",
      "  Variable Name         Type\n",
      "0  sepal length   Continuous\n",
      "1   sepal width   Continuous\n",
      "2  petal length   Continuous\n",
      "3   petal width   Continuous\n",
      "4         class  Categorical\n",
      "\n"
     ]
    }
   ],
   "source": [
    "# mostramos los tipos de datos usando los metodos de la librearia de repositorios\n",
    "dataframe_tipos = pd.DataFrame({'Variable Name': dataset.variables['name'], 'Type': dataset.variables['type']})\n",
    "print(f\"Tipos de datos (Metodo ucimlrepo):\\n{dataframe_tipos}\\n\")"
   ]
  },
  {
   "cell_type": "code",
   "execution_count": 138,
   "metadata": {},
   "outputs": [
    {
     "name": "stdout",
     "output_type": "stream",
     "text": [
      "sepal length:\n",
      "\tMedia: 5.843333333333334\n",
      "\tMediana: 5.8\n",
      "\tDesviacion estandar: 0.828066127977863\n",
      "\tMinimo: 4.3\n",
      "\tMaximo: 7.9\n",
      "sepal width:\n",
      "\tMedia: 3.0540000000000003\n",
      "\tMediana: 3.0\n",
      "\tDesviacion estandar: 0.4335943113621737\n",
      "\tMinimo: 2.0\n",
      "\tMaximo: 4.4\n",
      "petal length:\n",
      "\tMedia: 3.758666666666666\n",
      "\tMediana: 4.35\n",
      "\tDesviacion estandar: 1.7644204199522626\n",
      "\tMinimo: 1.0\n",
      "\tMaximo: 6.9\n",
      "petal width:\n",
      "\tMedia: 1.1986666666666668\n",
      "\tMediana: 1.3\n",
      "\tDesviacion estandar: 0.7631607417008411\n",
      "\tMinimo: 0.1\n",
      "\tMaximo: 2.5\n",
      "target:\n",
      "\tValores unicos: ['Iris-setosa' 'Iris-versicolor' 'Iris-virginica']\n",
      "\tCantidad de valores unicos: 3\n"
     ]
    }
   ],
   "source": [
    "# por cada columna hacer lo siguiente \n",
    "# si el tipo de dato es numerico, mostrar la media, mediana, desviacion estandar, minimo y maximo\n",
    "# si el tipo de dato es categorico, mostrar la cantidad de valores unicos\n",
    "for col in df.columns:\n",
    "    if df[col].dtype == 'float64' or df[col].dtype == 'int64':\n",
    "        print(f\"{col}:\")\n",
    "        print(f\"\\tMedia: {df[col].mean()}\")\n",
    "        print(f\"\\tMediana: {df[col].median()}\")\n",
    "        print(f\"\\tDesviacion estandar: {df[col].std()}\")\n",
    "        print(f\"\\tMinimo: {df[col].min()}\")\n",
    "        print(f\"\\tMaximo: {df[col].max()}\")\n",
    "    else:\n",
    "        print(f\"{col}:\")\n",
    "        print(f\"\\tValores unicos: {df[col].unique()}\")\n",
    "        print(f\"\\tCantidad de valores unicos: {df[col].nunique()}\")"
   ]
  },
  {
   "cell_type": "markdown",
   "metadata": {},
   "source": [
    "PASO 2: PREPROCESAMIENTO DE DATOS\n",
    "\n",
    "Separamos el dataset en los vectores de entrada X & de salida Y(las clases que son definidas con tipo de dato categorico)\n"
   ]
  },
  {
   "cell_type": "code",
   "execution_count": 139,
   "metadata": {},
   "outputs": [
    {
     "name": "stdout",
     "output_type": "stream",
     "text": [
      "   sepal length  sepal width  petal length  petal width\n",
      "0           5.1          3.5           1.4          0.2\n",
      "1           4.9          3.0           1.4          0.2\n",
      "2           4.7          3.2           1.3          0.2\n",
      "3           4.6          3.1           1.5          0.2\n",
      "4           5.0          3.6           1.4          0.2\n"
     ]
    }
   ],
   "source": [
    "# el vector de entrada X son todas las columnas menos la columna target\n",
    "vector_x = df.drop(['target'], axis=1)\n",
    "\n",
    "# mostramos los primeros 5 registros del vector de entrada X\n",
    "print(vector_x.head())"
   ]
  },
  {
   "cell_type": "code",
   "execution_count": 140,
   "metadata": {},
   "outputs": [
    {
     "name": "stdout",
     "output_type": "stream",
     "text": [
      "0    Iris-setosa\n",
      "1    Iris-setosa\n",
      "2    Iris-setosa\n",
      "3    Iris-setosa\n",
      "4    Iris-setosa\n",
      "Name: target, dtype: object\n"
     ]
    }
   ],
   "source": [
    "# el vector de salida Y es la columna target\n",
    "vector_y = df['target']\n",
    "\n",
    "# mostramos los primeros 5 registros del vector de salida Y\n",
    "print(vector_y.head())"
   ]
  },
  {
   "cell_type": "code",
   "execution_count": 141,
   "metadata": {},
   "outputs": [
    {
     "name": "stdout",
     "output_type": "stream",
     "text": [
      "target              Iris-setosa  Iris-versicolor  Iris-virginica\n",
      "sepal length count    50.000000        50.000000       50.000000\n",
      "             mean      5.006000         5.936000        6.588000\n",
      "             std       0.352490         0.516171        0.635880\n",
      "             min       4.300000         4.900000        4.900000\n",
      "             25%       4.800000         5.600000        6.225000\n",
      "             50%       5.000000         5.900000        6.500000\n",
      "             75%       5.200000         6.300000        6.900000\n",
      "             max       5.800000         7.000000        7.900000\n",
      "sepal width  count    50.000000        50.000000       50.000000\n",
      "             mean      3.418000         2.770000        2.974000\n",
      "             std       0.381024         0.313798        0.322497\n",
      "             min       2.300000         2.000000        2.200000\n",
      "             25%       3.125000         2.525000        2.800000\n",
      "             50%       3.400000         2.800000        3.000000\n",
      "             75%       3.675000         3.000000        3.175000\n",
      "             max       4.400000         3.400000        3.800000\n",
      "petal length count    50.000000        50.000000       50.000000\n",
      "             mean      1.464000         4.260000        5.552000\n",
      "             std       0.173511         0.469911        0.551895\n",
      "             min       1.000000         3.000000        4.500000\n",
      "             25%       1.400000         4.000000        5.100000\n",
      "             50%       1.500000         4.350000        5.550000\n",
      "             75%       1.575000         4.600000        5.875000\n",
      "             max       1.900000         5.100000        6.900000\n",
      "petal width  count    50.000000        50.000000       50.000000\n",
      "             mean      0.244000         1.326000        2.026000\n",
      "             std       0.107210         0.197753        0.274650\n",
      "             min       0.100000         1.000000        1.400000\n",
      "             25%       0.200000         1.200000        1.800000\n",
      "             50%       0.200000         1.300000        2.000000\n",
      "             75%       0.300000         1.500000        2.300000\n",
      "             max       0.600000         1.800000        2.500000\n"
     ]
    }
   ],
   "source": [
    "# describimos el vector de entrada X de acuerdo al vector de salida Y\n",
    "def get_statistics(vector_x, vector_y): \n",
    "    # validate the data type of column is numeric       \n",
    "    return vector_x.groupby(vector_y).describe().T\n",
    "\n",
    "print(get_statistics(vector_x, vector_y))"
   ]
  }
 ],
 "metadata": {
  "kernelspec": {
   "display_name": "Python 3",
   "language": "python",
   "name": "python3"
  },
  "language_info": {
   "codemirror_mode": {
    "name": "ipython",
    "version": 3
   },
   "file_extension": ".py",
   "mimetype": "text/x-python",
   "name": "python",
   "nbconvert_exporter": "python",
   "pygments_lexer": "ipython3",
   "version": "3.10.12"
  }
 },
 "nbformat": 4,
 "nbformat_minor": 2
}
