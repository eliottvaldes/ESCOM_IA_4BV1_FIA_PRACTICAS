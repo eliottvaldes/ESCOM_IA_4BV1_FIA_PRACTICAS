{
 "cells": [
  {
   "cell_type": "markdown",
   "metadata": {},
   "source": [
    "### ESCOM - IIA\n",
    "#### FUNDAMENTOS DE INTELIGENCIA ARTIFICIAL - PROYECTO ML\n",
    "#### Semestre 2023-2 - Grupo 4BV2\n",
    "--- \n",
    "##### Autores:\n",
    "- **Valdés Luis Eliot Fabián**"
   ]
  },
  {
   "cell_type": "code",
   "execution_count": 45,
   "metadata": {},
   "outputs": [],
   "source": [
    "# importamos la librerias necesarias\n",
    "from ucimlrepo import fetch_ucirepo  # libreria de repositorios de datasets\n",
    "import pandas as pd  # libreria para el manejo de dataframes"
   ]
  },
  {
   "cell_type": "code",
   "execution_count": 46,
   "metadata": {},
   "outputs": [],
   "source": [
    "# cargamos el dataset\n",
    "# id = 53 => el dataset de la iris flower\n",
    "dataset = fetch_ucirepo(id=53) "
   ]
  },
  {
   "cell_type": "code",
   "execution_count": 47,
   "metadata": {},
   "outputs": [],
   "source": [
    "# obtenemos los datos\n",
    "X = dataset.data.features \n",
    "y = dataset.data.targets "
   ]
  },
  {
   "cell_type": "code",
   "execution_count": 48,
   "metadata": {},
   "outputs": [
    {
     "name": "stdout",
     "output_type": "stream",
     "text": [
      "   sepal length  sepal width  petal length  petal width       target\n",
      "0           5.1          3.5           1.4          0.2  Iris-setosa\n",
      "1           4.9          3.0           1.4          0.2  Iris-setosa\n",
      "2           4.7          3.2           1.3          0.2  Iris-setosa\n",
      "3           4.6          3.1           1.5          0.2  Iris-setosa\n",
      "4           5.0          3.6           1.4          0.2  Iris-setosa\n"
     ]
    }
   ],
   "source": [
    "# creamos un dataframe con los datos\n",
    "df = pd.DataFrame(X, columns=dataset.data.feature_names)\n",
    "df['target'] = y\n",
    "\n",
    "# imprimimos los primeros 5 registros\n",
    "print(df.head())"
   ]
  },
  {
   "cell_type": "code",
   "execution_count": 49,
   "metadata": {},
   "outputs": [
    {
     "name": "stdout",
     "output_type": "stream",
     "text": [
      "Tipos de datos (Metodo pandas):\n",
      "sepal length    float64\n",
      "sepal width     float64\n",
      "petal length    float64\n",
      "petal width     float64\n",
      "target           object\n",
      "dtype: object\n",
      "\n"
     ]
    }
   ],
   "source": [
    "# mostramos los tipos de datos de cada columna\n",
    "print(f\"Tipos de datos (Metodo pandas):\\n{df.dtypes}\\n\")"
   ]
  },
  {
   "cell_type": "code",
   "execution_count": 50,
   "metadata": {},
   "outputs": [
    {
     "name": "stdout",
     "output_type": "stream",
     "text": [
      "Tipos de datos (Metodo ucimlrepo):\n",
      "  Variable Name         Type\n",
      "0  sepal length   Continuous\n",
      "1   sepal width   Continuous\n",
      "2  petal length   Continuous\n",
      "3   petal width   Continuous\n",
      "4         class  Categorical\n",
      "\n"
     ]
    }
   ],
   "source": [
    "# mostramos los tipos de datos usando los metodos de la librearia de repositorios\n",
    "dataframe_tipos = pd.DataFrame({'Variable Name': dataset.variables['name'], 'Type': dataset.variables['type']})\n",
    "print(f\"Tipos de datos (Metodo ucimlrepo):\\n{dataframe_tipos}\\n\")"
   ]
  },
  {
   "cell_type": "code",
   "execution_count": 51,
   "metadata": {},
   "outputs": [
    {
     "name": "stdout",
     "output_type": "stream",
     "text": [
      "sepal length:\n",
      "\tMedia: 5.843333333333334\n",
      "\tMediana: 5.8\n",
      "\tDesviacion estandar: 0.828066127977863\n",
      "\tMinimo: 4.3\n",
      "\tMaximo: 7.9\n",
      "sepal width:\n",
      "\tMedia: 3.0540000000000003\n",
      "\tMediana: 3.0\n",
      "\tDesviacion estandar: 0.4335943113621737\n",
      "\tMinimo: 2.0\n",
      "\tMaximo: 4.4\n",
      "petal length:\n",
      "\tMedia: 3.758666666666666\n",
      "\tMediana: 4.35\n",
      "\tDesviacion estandar: 1.7644204199522626\n",
      "\tMinimo: 1.0\n",
      "\tMaximo: 6.9\n",
      "petal width:\n",
      "\tMedia: 1.1986666666666668\n",
      "\tMediana: 1.3\n",
      "\tDesviacion estandar: 0.7631607417008411\n",
      "\tMinimo: 0.1\n",
      "\tMaximo: 2.5\n",
      "target:\n",
      "\tValores unicos: ['Iris-setosa' 'Iris-versicolor' 'Iris-virginica']\n",
      "\tCantidad de valores unicos: 3\n"
     ]
    }
   ],
   "source": [
    "# por cada columna hacer lo siguiente \n",
    "# si el tipo de dato es numerico, mostrar la media, mediana, desviacion estandar, minimo y maximo\n",
    "# si el tipo de dato es categorico, mostrar la cantidad de valores unicos\n",
    "for col in df.columns:\n",
    "    if df[col].dtype == 'float64':\n",
    "        print(f\"{col}:\")\n",
    "        print(f\"\\tMedia: {df[col].mean()}\")\n",
    "        print(f\"\\tMediana: {df[col].median()}\")\n",
    "        print(f\"\\tDesviacion estandar: {df[col].std()}\")\n",
    "        print(f\"\\tMinimo: {df[col].min()}\")\n",
    "        print(f\"\\tMaximo: {df[col].max()}\")\n",
    "    else:\n",
    "        print(f\"{col}:\")\n",
    "        print(f\"\\tValores unicos: {df[col].unique()}\")\n",
    "        print(f\"\\tCantidad de valores unicos: {df[col].nunique()}\")"
   ]
  },
  {
   "cell_type": "markdown",
   "metadata": {},
   "source": [
    "PASO 2: PREPROCESAMIENTO DE DATOS\n",
    "\n",
    "Separamos el dataset en los vectores de entrada X & de salida Y(las clases que son definidas con tipo de dato categorico)\n"
   ]
  },
  {
   "cell_type": "code",
   "execution_count": 55,
   "metadata": {},
   "outputs": [
    {
     "name": "stdout",
     "output_type": "stream",
     "text": [
      "   sepal length  sepal width  petal length  petal width\n",
      "0           5.1          3.5           1.4          0.2\n",
      "1           4.9          3.0           1.4          0.2\n",
      "2           4.7          3.2           1.3          0.2\n",
      "3           4.6          3.1           1.5          0.2\n",
      "4           5.0          3.6           1.4          0.2\n"
     ]
    }
   ],
   "source": [
    "# el vector de entrada X son todas las columnas menos la columna target\n",
    "vector_x = df.drop(['target'], axis=1)\n",
    "\n",
    "# mostramos los primeros 5 registros del vector de entrada X\n",
    "print(vector_x.head())"
   ]
  },
  {
   "cell_type": "code",
   "execution_count": 58,
   "metadata": {},
   "outputs": [
    {
     "name": "stdout",
     "output_type": "stream",
     "text": [
      "['Iris-setosa' 'Iris-versicolor' 'Iris-virginica']\n"
     ]
    }
   ],
   "source": [
    "# el vector de salida Y es la columna target\n",
    "vector_y = df['target'].unique()\n",
    "\n",
    "# mostramos los primeros 5 registros del vector de salida Y\n",
    "print(vector_y)"
   ]
  },
  {
   "cell_type": "code",
   "execution_count": null,
   "metadata": {},
   "outputs": [],
   "source": [
    "# separar el dataset segun las clases encontradas en el vector_y (tomando en cuenta que la cantidad es dinamica)\n"
   ]
  }
 ],
 "metadata": {
  "kernelspec": {
   "display_name": "Python 3",
   "language": "python",
   "name": "python3"
  },
  "language_info": {
   "codemirror_mode": {
    "name": "ipython",
    "version": 3
   },
   "file_extension": ".py",
   "mimetype": "text/x-python",
   "name": "python",
   "nbconvert_exporter": "python",
   "pygments_lexer": "ipython3",
   "version": "3.10.12"
  }
 },
 "nbformat": 4,
 "nbformat_minor": 2
}
