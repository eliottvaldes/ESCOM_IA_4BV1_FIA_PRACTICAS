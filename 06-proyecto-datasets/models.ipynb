{
 "cells": [
  {
   "cell_type": "code",
   "execution_count": 1,
   "metadata": {},
   "outputs": [],
   "source": [
    "from ucimlrepo import fetch_ucirepo\n",
    "import pandas as pd\n",
    "import numpy as np\n",
    "datasets = {\n",
    "    \"Eliot\": 53, # Iris\n",
    "    \"Ethel\": 728, # \n",
    "    \"Leo\": 878, # Cirrhosis\n",
    "    \"Adair\": 109, # Wine\n",
    "}\n"
   ]
  },
  {
   "cell_type": "code",
   "execution_count": 2,
   "metadata": {},
   "outputs": [],
   "source": [
    "dataset = fetch_ucirepo(id=datasets[\"Eliot\"])\n",
    "# obtenemos los datos\n",
    "X = dataset.data.features \n",
    "y = dataset.data.targets \n",
    "df = pd.DataFrame(X, columns=dataset.data.feature_names)\n",
    "df['target'] = y"
   ]
  },
  {
   "cell_type": "code",
   "execution_count": 3,
   "metadata": {},
   "outputs": [],
   "source": [
    "df = df.dropna()"
   ]
  },
  {
   "cell_type": "code",
   "execution_count": 4,
   "metadata": {},
   "outputs": [],
   "source": [
    "def separate_dataframe(df):\n",
    "    vector_x = df.drop(df.columns[-1], axis=1) \n",
    "    vector_y = df[df.columns[-1]]\n",
    "    return vector_x, vector_y"
   ]
  },
  {
   "cell_type": "code",
   "execution_count": 5,
   "metadata": {},
   "outputs": [],
   "source": [
    "vector_x, vector_y = separate_dataframe(df)"
   ]
  },
  {
   "cell_type": "code",
   "execution_count": 6,
   "metadata": {},
   "outputs": [],
   "source": [
    "vector_x = vector_x.select_dtypes(include=['int64', 'float64'])"
   ]
  },
  {
   "cell_type": "code",
   "execution_count": 7,
   "metadata": {},
   "outputs": [
    {
     "data": {
      "text/html": [
       "<div>\n",
       "<style scoped>\n",
       "    .dataframe tbody tr th:only-of-type {\n",
       "        vertical-align: middle;\n",
       "    }\n",
       "\n",
       "    .dataframe tbody tr th {\n",
       "        vertical-align: top;\n",
       "    }\n",
       "\n",
       "    .dataframe thead th {\n",
       "        text-align: right;\n",
       "    }\n",
       "</style>\n",
       "<table border=\"1\" class=\"dataframe\">\n",
       "  <thead>\n",
       "    <tr style=\"text-align: right;\">\n",
       "      <th></th>\n",
       "      <th>sepal length</th>\n",
       "      <th>sepal width</th>\n",
       "      <th>petal length</th>\n",
       "      <th>petal width</th>\n",
       "    </tr>\n",
       "  </thead>\n",
       "  <tbody>\n",
       "    <tr>\n",
       "      <th>0</th>\n",
       "      <td>5.1</td>\n",
       "      <td>3.5</td>\n",
       "      <td>1.4</td>\n",
       "      <td>0.2</td>\n",
       "    </tr>\n",
       "    <tr>\n",
       "      <th>1</th>\n",
       "      <td>4.9</td>\n",
       "      <td>3.0</td>\n",
       "      <td>1.4</td>\n",
       "      <td>0.2</td>\n",
       "    </tr>\n",
       "    <tr>\n",
       "      <th>2</th>\n",
       "      <td>4.7</td>\n",
       "      <td>3.2</td>\n",
       "      <td>1.3</td>\n",
       "      <td>0.2</td>\n",
       "    </tr>\n",
       "    <tr>\n",
       "      <th>3</th>\n",
       "      <td>4.6</td>\n",
       "      <td>3.1</td>\n",
       "      <td>1.5</td>\n",
       "      <td>0.2</td>\n",
       "    </tr>\n",
       "    <tr>\n",
       "      <th>4</th>\n",
       "      <td>5.0</td>\n",
       "      <td>3.6</td>\n",
       "      <td>1.4</td>\n",
       "      <td>0.2</td>\n",
       "    </tr>\n",
       "  </tbody>\n",
       "</table>\n",
       "</div>"
      ],
      "text/plain": [
       "   sepal length  sepal width  petal length  petal width\n",
       "0           5.1          3.5           1.4          0.2\n",
       "1           4.9          3.0           1.4          0.2\n",
       "2           4.7          3.2           1.3          0.2\n",
       "3           4.6          3.1           1.5          0.2\n",
       "4           5.0          3.6           1.4          0.2"
      ]
     },
     "execution_count": 7,
     "metadata": {},
     "output_type": "execute_result"
    }
   ],
   "source": [
    "vector_x.head()"
   ]
  },
  {
   "cell_type": "code",
   "execution_count": 8,
   "metadata": {},
   "outputs": [
    {
     "data": {
      "text/plain": [
       "0    Iris-setosa\n",
       "1    Iris-setosa\n",
       "2    Iris-setosa\n",
       "3    Iris-setosa\n",
       "4    Iris-setosa\n",
       "Name: target, dtype: object"
      ]
     },
     "execution_count": 8,
     "metadata": {},
     "output_type": "execute_result"
    }
   ],
   "source": [
    "vector_y.head()"
   ]
  },
  {
   "cell_type": "markdown",
   "metadata": {},
   "source": [
    "----\n",
    "# MODELOS"
   ]
  },
  {
   "cell_type": "code",
   "execution_count": 9,
   "metadata": {},
   "outputs": [],
   "source": [
    "def min_distance_classifier(train_x, train_y, test_x):\n",
    "    # Calcular el promedio de cada clase en el conjunto de entrenamiento\n",
    "    class_means = train_x.groupby(train_y).mean()\n",
    "\n",
    "    # Clasificar cada observación en el conjunto de prueba\n",
    "    predicted_y = []\n",
    "    for _, row in test_x.iterrows():\n",
    "        min_dist = float('inf')\n",
    "        min_class = None\n",
    "        for cls, mean in class_means.iterrows():\n",
    "            dist = np.linalg.norm(row - mean)\n",
    "            if dist < min_dist:\n",
    "                min_dist = dist\n",
    "                min_class = cls\n",
    "        predicted_y.append(min_class)\n",
    "\n",
    "    return predicted_y\n"
   ]
  },
  {
   "cell_type": "code",
   "execution_count": 10,
   "metadata": {},
   "outputs": [],
   "source": [
    "def knn_classifier(train_x, train_y, test_x, k=1):\n",
    "    predicted_y = []\n",
    "    for _, test_row in test_x.iterrows():\n",
    "        # Calcular la distancia a cada punto en el conjunto de entrenamiento\n",
    "        distances = np.linalg.norm(train_x - test_row, axis=1)\n",
    "        # Obtener los índices de los k vecinos más cercanos\n",
    "        nearest_neighbors = np.argsort(distances)[:k]\n",
    "        # Votación mayoritaria\n",
    "        votes = train_y.iloc[nearest_neighbors].mode()\n",
    "        predicted_y.append(votes.values[0])\n",
    "\n",
    "    return predicted_y\n"
   ]
  },
  {
   "cell_type": "markdown",
   "metadata": {},
   "source": [
    "----\n",
    "# METODOS DE VALIDACIÓN"
   ]
  },
  {
   "cell_type": "markdown",
   "metadata": {},
   "source": [
    "- ### METODO TRAIN-TEST SPLIT"
   ]
  },
  {
   "cell_type": "code",
   "execution_count": 11,
   "metadata": {},
   "outputs": [],
   "source": [
    "def train_test_split(data_x, data_y, test_size=0.2):\n",
    "    test_indices = np.random.choice(data_x.index, size=int(len(data_x) * test_size), replace=False)\n",
    "    train_x = data_x.drop(test_indices)\n",
    "    train_y = data_y.drop(test_indices)\n",
    "    test_x = data_x.loc[test_indices]\n",
    "    test_y = data_y.loc[test_indices]\n",
    "    return train_x, train_y, test_x, test_y\n",
    "\n",
    "def evaluate_model(classifier, data_x, data_y, test_size=0.2):\n",
    "    train_x, train_y, test_x, test_y = train_test_split(data_x, data_y, test_size)\n",
    "    predicted_y = classifier(train_x, train_y, test_x)\n",
    "    accuracy = sum(predicted_y == test_y) / len(test_y)\n",
    "    error_rate = 1 - accuracy\n",
    "    return accuracy, error_rate\n"
   ]
  },
  {
   "cell_type": "markdown",
   "metadata": {},
   "source": [
    "- ### K FOLD CROSS VALIDATION"
   ]
  },
  {
   "cell_type": "code",
   "execution_count": 12,
   "metadata": {},
   "outputs": [],
   "source": [
    "def k_fold_cross_validation(classifier, data_x, data_y, k=5):\n",
    "    fold_size = int(len(data_x) / k)\n",
    "    accuracies = []\n",
    "    for i in range(k):\n",
    "        # Dividir los datos en folds\n",
    "        test_indices = range(i * fold_size, (i + 1) * fold_size)\n",
    "        train_indices = list(set(range(len(data_x))) - set(test_indices))\n",
    "\n",
    "        train_x, train_y = data_x.iloc[train_indices], data_y.iloc[train_indices]\n",
    "        test_x, test_y = data_x.iloc[test_indices], data_y.iloc[test_indices]\n",
    "\n",
    "        # Evaluar el clasificador\n",
    "        predicted_y = classifier(train_x, train_y, test_x)\n",
    "        accuracy = sum(predicted_y == test_y) / len(test_y)\n",
    "        accuracies.append(accuracy)\n",
    "\n",
    "    mean_accuracy = np.mean(accuracies)\n",
    "    error_rate = 1 - mean_accuracy\n",
    "    return mean_accuracy, error_rate\n"
   ]
  },
  {
   "cell_type": "markdown",
   "metadata": {},
   "source": [
    "- ### BOOTSTRAP"
   ]
  },
  {
   "cell_type": "code",
   "execution_count": 13,
   "metadata": {},
   "outputs": [],
   "source": [
    "def bootstrap_validation(classifier, data_x, data_y, n_iterations=100, sample_size=None):\n",
    "    if sample_size is None:\n",
    "        sample_size = len(data_x)\n",
    "\n",
    "    accuracies = []\n",
    "    for _ in range(n_iterations):\n",
    "        # Crear un conjunto de entrenamiento con muestreo con reemplazo\n",
    "        sample_indices = np.random.choice(data_x.index, size=sample_size, replace=True)\n",
    "        out_of_bag_indices = list(set(data_x.index) - set(sample_indices))\n",
    "\n",
    "        train_x, train_y = data_x.loc[sample_indices], data_y.loc[sample_indices]\n",
    "        test_x, test_y = data_x.loc[out_of_bag_indices], data_y.loc[out_of_bag_indices]\n",
    "\n",
    "        # Evaluar el clasificador\n",
    "        predicted_y = classifier(train_x, train_y, test_x)\n",
    "        accuracy = sum(predicted_y == test_y) / len(test_y)\n",
    "        accuracies.append(accuracy)\n",
    "\n",
    "    mean_accuracy = np.mean(accuracies)\n",
    "    error_rate = 1 - mean_accuracy\n",
    "    return mean_accuracy, error_rate\n"
   ]
  },
  {
   "cell_type": "markdown",
   "metadata": {},
   "source": [
    "-----\n",
    "# USO DE LOS MODELOS"
   ]
  },
  {
   "cell_type": "markdown",
   "metadata": {},
   "source": [
    "- ## 4 => MODELO: DISTANCIA MINIMA"
   ]
  },
  {
   "cell_type": "markdown",
   "metadata": {},
   "source": [
    "- ### 4.A => DISTANCIA MINIMA - EVALUADO CON: TRAIN-TEST SPLIT"
   ]
  },
  {
   "cell_type": "code",
   "execution_count": 14,
   "metadata": {},
   "outputs": [
    {
     "name": "stdout",
     "output_type": "stream",
     "text": [
      "\n",
      " ==================================================\n",
      "Min Distance Classifier - Train Test Split\n",
      "Accuracy: 0.9333333333333333 Error Rate: 0.06666666666666665\n"
     ]
    }
   ],
   "source": [
    "accuracy, error_rate = evaluate_model(min_distance_classifier, vector_x, vector_y, test_size=0.2)\n",
    "print(\"\\n\",\"=\"*50)\n",
    "print(\"Min Distance Classifier - Train Test Split\")\n",
    "print(\"Accuracy:\", accuracy, \"Error Rate:\", error_rate)\n"
   ]
  },
  {
   "cell_type": "markdown",
   "metadata": {},
   "source": [
    "- ### 4.B => DISTANCIA MINIMA - EVALUADO CON: K FOLD CROSS VALIDATION"
   ]
  },
  {
   "cell_type": "code",
   "execution_count": 15,
   "metadata": {},
   "outputs": [
    {
     "name": "stdout",
     "output_type": "stream",
     "text": [
      "\n",
      " ==================================================\n",
      "Min Distance Classifier - K-fold Cross Validation\n",
      "Accuracy: 0.9133333333333333 Error Rate: 0.08666666666666667\n"
     ]
    }
   ],
   "source": [
    "accuracy, error_rate = k_fold_cross_validation(min_distance_classifier, vector_x, vector_y, k=5)\n",
    "print(\"\\n\",\"=\"*50)\n",
    "print(\"Min Distance Classifier - K-fold Cross Validation\")\n",
    "print(\"Accuracy:\", accuracy, \"Error Rate:\", error_rate)"
   ]
  },
  {
   "cell_type": "markdown",
   "metadata": {},
   "source": [
    "- ### 4.C => DISTANCIA MINIMA - EVALUADO CON: BOOTSTRAP"
   ]
  },
  {
   "cell_type": "code",
   "execution_count": 16,
   "metadata": {},
   "outputs": [
    {
     "name": "stdout",
     "output_type": "stream",
     "text": [
      "\n",
      " ==================================================\n",
      "Min Distance Classifier - Bootstrap\n",
      "Accuracy: 0.9222078554709106 Error Rate: 0.07779214452908945\n"
     ]
    }
   ],
   "source": [
    "accuracy, error_rate = bootstrap_validation(min_distance_classifier, vector_x, vector_y, n_iterations=100)\n",
    "print(\"\\n\",\"=\"*50)\n",
    "print(\"Min Distance Classifier - Bootstrap\")\n",
    "print(\"Accuracy:\", accuracy, \"Error Rate:\", error_rate)\n"
   ]
  },
  {
   "cell_type": "markdown",
   "metadata": {},
   "source": [
    "- ## 5 => MODELO: KNN(K=1)"
   ]
  },
  {
   "cell_type": "markdown",
   "metadata": {},
   "source": [
    "- ### 5.A => KNN - EVALUADO CON: TRAIN-TEST SPLIT"
   ]
  },
  {
   "cell_type": "code",
   "execution_count": 17,
   "metadata": {},
   "outputs": [
    {
     "name": "stdout",
     "output_type": "stream",
     "text": [
      "\n",
      " ==================================================\n",
      "KNN Classifier (K=1) - Train Test Split\n",
      "Accuracy: 1.0 Error Rate: 0.0\n"
     ]
    }
   ],
   "source": [
    "accuracy, error_rate = evaluate_model(lambda x, y, z: knn_classifier(x, y, z, k=1), vector_x, vector_y, test_size=0.2)\n",
    "print(\"\\n\",\"=\"*50)\n",
    "print(\"KNN Classifier (K=1) - Train Test Split\")\n",
    "print(\"Accuracy:\", accuracy, \"Error Rate:\", error_rate)\n"
   ]
  },
  {
   "cell_type": "markdown",
   "metadata": {},
   "source": [
    "- ### 5.B => KNN - EVALUADO CON: K FOLD CROSS VALIDATION"
   ]
  },
  {
   "cell_type": "code",
   "execution_count": 18,
   "metadata": {},
   "outputs": [
    {
     "name": "stdout",
     "output_type": "stream",
     "text": [
      "\n",
      " ==================================================\n",
      "KNN Classifier (K=1) - K-fold Cross Validation\n",
      "Accuracy: 0.9266666666666665 Error Rate: 0.07333333333333347\n"
     ]
    }
   ],
   "source": [
    "accuracy, error_rate = k_fold_cross_validation(lambda x, y, z: knn_classifier(x, y, z, k=1), vector_x, vector_y, k=5)\n",
    "print(\"\\n\",\"=\"*50)\n",
    "print(\"KNN Classifier (K=1) - K-fold Cross Validation\")\n",
    "print(\"Accuracy:\", accuracy, \"Error Rate:\", error_rate)\n"
   ]
  },
  {
   "cell_type": "markdown",
   "metadata": {},
   "source": [
    "- ### 5.C => KNN - EVALUADO CON: BOOTSTRAP"
   ]
  },
  {
   "cell_type": "code",
   "execution_count": 19,
   "metadata": {},
   "outputs": [
    {
     "name": "stdout",
     "output_type": "stream",
     "text": [
      "\n",
      " ==================================================\n",
      "KNN Classifier (K=1) - Bootstrap\n",
      "Accuracy: 0.9531376948770856 Error Rate: 0.04686230512291445\n"
     ]
    }
   ],
   "source": [
    "accuracy, error_rate = bootstrap_validation(lambda x, y, z: knn_classifier(x, y, z, k=1), vector_x, vector_y, n_iterations=100)\n",
    "print(\"\\n\",\"=\"*50)\n",
    "print(\"KNN Classifier (K=1) - Bootstrap\")\n",
    "print(\"Accuracy:\", accuracy, \"Error Rate:\", error_rate)\n"
   ]
  }
 ],
 "metadata": {
  "kernelspec": {
   "display_name": "Python 3",
   "language": "python",
   "name": "python3"
  },
  "language_info": {
   "codemirror_mode": {
    "name": "ipython",
    "version": 3
   },
   "file_extension": ".py",
   "mimetype": "text/x-python",
   "name": "python",
   "nbconvert_exporter": "python",
   "pygments_lexer": "ipython3",
   "version": "3.10.12"
  }
 },
 "nbformat": 4,
 "nbformat_minor": 2
}
