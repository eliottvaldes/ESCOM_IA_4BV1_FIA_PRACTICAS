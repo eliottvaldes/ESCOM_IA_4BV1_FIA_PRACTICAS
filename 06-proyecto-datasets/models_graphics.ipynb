{
 "cells": [
  {
   "cell_type": "code",
   "execution_count": 16,
   "metadata": {},
   "outputs": [],
   "source": [
    "from ucimlrepo import fetch_ucirepo\n",
    "import pandas as pd\n",
    "import numpy as np\n",
    "datasets = {\n",
    "    \"Eliot\": 53, # Iris\n",
    "    \"Ethel\": 728, # \n",
    "    \"Leo\": 878, # Cirrhosis\n",
    "    \"Adair\": 109, # Wine\n",
    "}\n"
   ]
  },
  {
   "cell_type": "code",
   "execution_count": 17,
   "metadata": {},
   "outputs": [],
   "source": [
    "dataset = fetch_ucirepo(id=datasets[\"Eliot\"])\n",
    "# obtenemos los datos\n",
    "X = dataset.data.features \n",
    "y = dataset.data.targets \n",
    "df = pd.DataFrame(X, columns=dataset.data.feature_names)\n",
    "df['target'] = y"
   ]
  },
  {
   "cell_type": "code",
   "execution_count": 18,
   "metadata": {},
   "outputs": [],
   "source": [
    "df = df.dropna()"
   ]
  },
  {
   "cell_type": "code",
   "execution_count": 19,
   "metadata": {},
   "outputs": [],
   "source": [
    "def separate_dataframe(df):\n",
    "    vector_x = df.drop(df.columns[-1], axis=1) \n",
    "    vector_y = df[df.columns[-1]]\n",
    "    return vector_x, vector_y"
   ]
  },
  {
   "cell_type": "code",
   "execution_count": 20,
   "metadata": {},
   "outputs": [],
   "source": [
    "vector_x, vector_y = separate_dataframe(df)"
   ]
  },
  {
   "cell_type": "code",
   "execution_count": 21,
   "metadata": {},
   "outputs": [],
   "source": [
    "vector_x = vector_x.select_dtypes(include=['int64', 'float64'])"
   ]
  },
  {
   "cell_type": "code",
   "execution_count": 22,
   "metadata": {},
   "outputs": [
    {
     "data": {
      "text/html": [
       "<div>\n",
       "<style scoped>\n",
       "    .dataframe tbody tr th:only-of-type {\n",
       "        vertical-align: middle;\n",
       "    }\n",
       "\n",
       "    .dataframe tbody tr th {\n",
       "        vertical-align: top;\n",
       "    }\n",
       "\n",
       "    .dataframe thead th {\n",
       "        text-align: right;\n",
       "    }\n",
       "</style>\n",
       "<table border=\"1\" class=\"dataframe\">\n",
       "  <thead>\n",
       "    <tr style=\"text-align: right;\">\n",
       "      <th></th>\n",
       "      <th>sepal length</th>\n",
       "      <th>sepal width</th>\n",
       "      <th>petal length</th>\n",
       "      <th>petal width</th>\n",
       "    </tr>\n",
       "  </thead>\n",
       "  <tbody>\n",
       "    <tr>\n",
       "      <th>0</th>\n",
       "      <td>5.1</td>\n",
       "      <td>3.5</td>\n",
       "      <td>1.4</td>\n",
       "      <td>0.2</td>\n",
       "    </tr>\n",
       "    <tr>\n",
       "      <th>1</th>\n",
       "      <td>4.9</td>\n",
       "      <td>3.0</td>\n",
       "      <td>1.4</td>\n",
       "      <td>0.2</td>\n",
       "    </tr>\n",
       "    <tr>\n",
       "      <th>2</th>\n",
       "      <td>4.7</td>\n",
       "      <td>3.2</td>\n",
       "      <td>1.3</td>\n",
       "      <td>0.2</td>\n",
       "    </tr>\n",
       "    <tr>\n",
       "      <th>3</th>\n",
       "      <td>4.6</td>\n",
       "      <td>3.1</td>\n",
       "      <td>1.5</td>\n",
       "      <td>0.2</td>\n",
       "    </tr>\n",
       "    <tr>\n",
       "      <th>4</th>\n",
       "      <td>5.0</td>\n",
       "      <td>3.6</td>\n",
       "      <td>1.4</td>\n",
       "      <td>0.2</td>\n",
       "    </tr>\n",
       "  </tbody>\n",
       "</table>\n",
       "</div>"
      ],
      "text/plain": [
       "   sepal length  sepal width  petal length  petal width\n",
       "0           5.1          3.5           1.4          0.2\n",
       "1           4.9          3.0           1.4          0.2\n",
       "2           4.7          3.2           1.3          0.2\n",
       "3           4.6          3.1           1.5          0.2\n",
       "4           5.0          3.6           1.4          0.2"
      ]
     },
     "execution_count": 22,
     "metadata": {},
     "output_type": "execute_result"
    }
   ],
   "source": [
    "vector_x.head()"
   ]
  },
  {
   "cell_type": "code",
   "execution_count": 23,
   "metadata": {},
   "outputs": [
    {
     "data": {
      "text/plain": [
       "0    Iris-setosa\n",
       "1    Iris-setosa\n",
       "2    Iris-setosa\n",
       "3    Iris-setosa\n",
       "4    Iris-setosa\n",
       "Name: target, dtype: object"
      ]
     },
     "execution_count": 23,
     "metadata": {},
     "output_type": "execute_result"
    }
   ],
   "source": [
    "vector_y.head()"
   ]
  },
  {
   "cell_type": "markdown",
   "metadata": {},
   "source": [
    "----\n",
    "# MODELOS"
   ]
  },
  {
   "cell_type": "code",
   "execution_count": 24,
   "metadata": {},
   "outputs": [],
   "source": [
    "def min_distance_classifier(train_x, train_y, test_x):\n",
    "    # Calcular el promedio de cada clase en el conjunto de entrenamiento\n",
    "    class_means = train_x.groupby(train_y).mean()\n",
    "\n",
    "    # Clasificar cada observación en el conjunto de prueba\n",
    "    predicted_y = []\n",
    "    for _, row in test_x.iterrows():\n",
    "        min_dist = float('inf')\n",
    "        min_class = None\n",
    "        for cls, mean in class_means.iterrows():\n",
    "            dist = np.linalg.norm(row - mean)\n",
    "            if dist < min_dist:\n",
    "                min_dist = dist\n",
    "                min_class = cls\n",
    "        predicted_y.append(min_class)\n",
    "\n",
    "    return predicted_y\n"
   ]
  },
  {
   "cell_type": "code",
   "execution_count": 25,
   "metadata": {},
   "outputs": [],
   "source": [
    "def knn_classifier(train_x, train_y, test_x, k=1):\n",
    "    predicted_y = []\n",
    "    for _, test_row in test_x.iterrows():\n",
    "        # Calcular la distancia a cada punto en el conjunto de entrenamiento\n",
    "        distances = np.linalg.norm(train_x - test_row, axis=1)\n",
    "        # Obtener los índices de los k vecinos más cercanos\n",
    "        nearest_neighbors = np.argsort(distances)[:k]\n",
    "        # Votación mayoritaria\n",
    "        votes = train_y.iloc[nearest_neighbors].mode()\n",
    "        predicted_y.append(votes.values[0])\n",
    "\n",
    "    return predicted_y\n"
   ]
  },
  {
   "cell_type": "markdown",
   "metadata": {},
   "source": [
    "\n",
    "----\n",
    "# IMPLEMENTACION DE GRAFICOS\n",
    "----\n"
   ]
  },
  {
   "cell_type": "code",
   "execution_count": 26,
   "metadata": {},
   "outputs": [],
   "source": [
    "import matplotlib.pyplot as plt\n"
   ]
  },
  {
   "cell_type": "code",
   "execution_count": 34,
   "metadata": {},
   "outputs": [],
   "source": [
    "def train_test_split(data_x, data_y, test_size=0.2):\n",
    "    test_indices = np.random.choice(data_x.index, size=int(len(data_x) * test_size), replace=False)\n",
    "    train_x = data_x.drop(test_indices)\n",
    "    train_y = data_y.drop(test_indices)\n",
    "    test_x = data_x.loc[test_indices]\n",
    "    test_y = data_y.loc[test_indices]\n",
    "    return train_x, train_y, test_x, test_y"
   ]
  },
  {
   "cell_type": "code",
   "execution_count": 35,
   "metadata": {},
   "outputs": [],
   "source": [
    "def evaluate_model_with_plot(classifier, data_x, data_y, test_size=0.2, title=\"Model Evaluation\"):\n",
    "    train_x, train_y, test_x, test_y = train_test_split(data_x, data_y, test_size)\n",
    "    predicted_y = classifier(train_x, train_y, test_x)\n",
    "    accuracy = sum(predicted_y == test_y) / len(test_y)\n",
    "    error_rate = 1 - accuracy\n",
    "\n",
    "    # Visualización\n",
    "    plt.bar(['Accuracy', 'Error Rate'], [accuracy, error_rate], color=['blue', 'red'])\n",
    "    plt.title(title)\n",
    "    plt.ylim(0, 1)\n",
    "    plt.ylabel('Percentage')\n",
    "    plt.show()\n",
    "\n",
    "    return accuracy, error_rate"
   ]
  },
  {
   "cell_type": "code",
   "execution_count": 37,
   "metadata": {},
   "outputs": [],
   "source": [
    "def k_fold_cross_validation_with_plot(classifier, data_x, data_y, k=5):\n",
    "    fold_size = int(len(data_x) / k)\n",
    "    accuracies = []\n",
    "    for i in range(k):\n",
    "        test_indices = range(i * fold_size, (i + 1) * fold_size)\n",
    "        train_indices = list(set(range(len(data_x))) - set(test_indices))\n",
    "\n",
    "        train_x, train_y = data_x.iloc[train_indices], data_y.iloc[train_indices]\n",
    "        test_x, test_y = data_x.iloc[test_indices], data_y.iloc[test_indices]\n",
    "\n",
    "        predicted_y = classifier(train_x, train_y, test_x)\n",
    "        accuracy = sum(predicted_y == test_y) / len(test_y)\n",
    "        accuracies.append(accuracy)\n",
    "\n",
    "    mean_accuracy = np.mean(accuracies)\n",
    "    error_rate = 1 - mean_accuracy\n",
    "\n",
    "    # Visualización\n",
    "    plt.plot(range(1, k+1), accuracies, marker='o', color='blue', label='Accuracy per Fold')\n",
    "    plt.axhline(y=mean_accuracy, color='green', linestyle='-', label='Mean Accuracy')\n",
    "    plt.title('K-Fold Cross Validation')\n",
    "    plt.xlabel('Fold')\n",
    "    plt.ylabel('Accuracy')\n",
    "    plt.legend()\n",
    "    plt.ylim(0, 1)\n",
    "    plt.show()\n",
    "\n",
    "    return mean_accuracy, error_rate\n"
   ]
  },
  {
   "cell_type": "code",
   "execution_count": 39,
   "metadata": {},
   "outputs": [],
   "source": [
    "def bootstrap_validation_with_plot(classifier, data_x, data_y, n_iterations=100, sample_size=None):\n",
    "    if sample_size is None:\n",
    "        sample_size = len(data_x)\n",
    "\n",
    "    accuracies = []\n",
    "    for _ in range(n_iterations):\n",
    "        sample_indices = np.random.choice(data_x.index, size=sample_size, replace=True)\n",
    "        out_of_bag_indices = list(set(data_x.index) - set(sample_indices))\n",
    "\n",
    "        train_x, train_y = data_x.loc[sample_indices], data_y.loc[sample_indices]\n",
    "        test_x, test_y = data_x.loc[out_of_bag_indices], data_y.loc[out_of_bag_indices]\n",
    "\n",
    "        predicted_y = classifier(train_x, train_y, test_x)\n",
    "        accuracy = sum(predicted_y == test_y) / len(test_y)\n",
    "        accuracies.append(accuracy)\n",
    "\n",
    "    mean_accuracy = np.mean(accuracies)\n",
    "    error_rate = 1 - mean_accuracy\n",
    "\n",
    "    # Visualización\n",
    "    plt.hist(accuracies, bins=10, color='blue', alpha=0.7)\n",
    "    plt.axvline(x=mean_accuracy, color='green', linestyle='--', label='Mean Accuracy')\n",
    "    plt.title('Bootstrap Validation')\n",
    "    plt.xlabel('Accuracy')\n",
    "    plt.ylabel('Frequency')\n",
    "    plt.legend()\n",
    "    plt.show()\n",
    "\n",
    "    return mean_accuracy, error_rate\n"
   ]
  },
  {
   "cell_type": "code",
   "execution_count": 42,
   "metadata": {},
   "outputs": [
    {
     "data": {
      "image/png": "[encoded data removed]",
      "text/plain": [
       "<Figure size 640x480 with 1 Axes>"
      ]
     },
     "metadata": {},
     "output_type": "display_data"
    },
    {
     "name": "stdout",
     "output_type": "stream",
     "text": [
      "Accuracy: 0.9333333333333333 | Error Rate: 0.06666666666666665\n"
     ]
    }
   ],
   "source": [
    "# Suponiendo que vector_x y vector_y son tus DataFrames de características y etiquetas\n",
    "accuracy, error_rate = evaluate_model_with_plot(min_distance_classifier, vector_x, vector_y, test_size=0.2, title=\"Min Distance Classifier Evaluation\")\n",
    "print(f\"Accuracy: {accuracy} | Error Rate: {error_rate}\")\n"
   ]
  },
  {
   "cell_type": "code",
   "execution_count": 41,
   "metadata": {},
   "outputs": [
    {
     "data": {
      "image/png": "[encoded data removed]",
      "text/plain": [
       "<Figure size 640x480 with 1 Axes>"
      ]
     },
     "metadata": {},
     "output_type": "display_data"
    },
    {
     "data": {
      "text/plain": [
       "(0.9266666666666665, 0.07333333333333347)"
      ]
     },
     "execution_count": 41,
     "metadata": {},
     "output_type": "execute_result"
    }
   ],
   "source": [
    "k_fold_cross_validation_with_plot(knn_classifier, vector_x, vector_y, k=5)\n"
   ]
  },
  {
   "cell_type": "code",
   "execution_count": 43,
   "metadata": {},
   "outputs": [
    {
     "data": {
      "image/png": "[encoded data removed]",
      "text/plain": [
       "<Figure size 640x480 with 1 Axes>"
      ]
     },
     "metadata": {},
     "output_type": "display_data"
    },
    {
     "data": {
      "text/plain": [
       "(0.9157320600980228, 0.08426793990197723)"
      ]
     },
     "execution_count": 43,
     "metadata": {},
     "output_type": "execute_result"
    }
   ],
   "source": [
    "bootstrap_validation_with_plot(min_distance_classifier, vector_x, vector_y, n_iterations=100)\n"
   ]
  },
  {
   "cell_type": "code",
   "execution_count": null,
   "metadata": {},
   "outputs": [],
   "source": []
  }
 ],
 "metadata": {
  "kernelspec": {
   "display_name": "Python 3",
   "language": "python",
   "name": "python3"
  },
  "language_info": {
   "codemirror_mode": {
    "name": "ipython",
    "version": 3
   },
   "file_extension": ".py",
   "mimetype": "text/x-python",
   "name": "python",
   "nbconvert_exporter": "python",
   "pygments_lexer": "ipython3",
   "version": "3.10.12"
  }
 },
 "nbformat": 4,
 "nbformat_minor": 2
}
